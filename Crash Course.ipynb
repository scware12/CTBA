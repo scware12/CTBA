{
 "cells": [
  {
   "cell_type": "code",
   "execution_count": 14,
   "id": "fb75db49",
   "metadata": {},
   "outputs": [
    {
     "name": "stdout",
     "output_type": "stream",
     "text": [
      "7\n",
      "data\n"
     ]
    }
   ],
   "source": [
    "x = 7\n",
    "y= \"data\"\n",
    "print(x)\n",
    "print(y)"
   ]
  },
  {
   "cell_type": "code",
   "execution_count": 15,
   "id": "e62aea9f",
   "metadata": {},
   "outputs": [
    {
     "name": "stdout",
     "output_type": "stream",
     "text": [
      "what are you studying\n",
      "analytics\n"
     ]
    }
   ],
   "source": [
    "str1 = \"what are you studying\"\n",
    "str2 = \"analytics\"\n",
    "combined = f\"{str1} {str2}\"\n",
    "print(str1+ \"\\n\"+ str2)"
   ]
  },
  {
   "cell_type": "code",
   "execution_count": 16,
   "id": "e93bf366",
   "metadata": {},
   "outputs": [
    {
     "name": "stdout",
     "output_type": "stream",
     "text": [
      "w\n",
      "g\n"
     ]
    }
   ],
   "source": [
    "#indexing a string\n",
    "#remember, indexing starts at 0, so 9 is the 10th character\n",
    "print(str1[0])\n",
    "print(str1[-1])\n"
   ]
  },
  {
   "cell_type": "code",
   "execution_count": null,
   "id": "61c288a5",
   "metadata": {},
   "outputs": [
    {
     "name": "stdout",
     "output_type": "stream",
     "text": [
      "WHAT ARE YOU STUDYING\n"
     ]
    }
   ],
   "source": [
    "#uppercase\n",
    "print(str1.upper())"
   ]
  },
  {
   "cell_type": "code",
   "execution_count": 19,
   "id": "0b5e105a",
   "metadata": {},
   "outputs": [
    {
     "name": "stdout",
     "output_type": "stream",
     "text": [
      "5\n"
     ]
    }
   ],
   "source": [
    "#find is case sensitive method of finding a substring\n",
    "print(str1.find(\"are\"))"
   ]
  },
  {
   "cell_type": "code",
   "execution_count": 20,
   "id": "2e8ff849",
   "metadata": {},
   "outputs": [
    {
     "name": "stdout",
     "output_type": "stream",
     "text": [
      "1\n",
      "3\n",
      "5\n",
      "7\n",
      "9\n",
      "11\n",
      "13\n",
      "15\n",
      "17\n",
      "19\n"
     ]
    }
   ],
   "source": [
    "for i in range(1, 21, 2):\n",
    "    print(i)"
   ]
  },
  {
   "cell_type": "code",
   "execution_count": null,
   "id": "a97ce0f1",
   "metadata": {},
   "outputs": [
    {
     "name": "stdout",
     "output_type": "stream",
     "text": [
      "Hello, I am Pamela Schlosser. I have been teaching at WM since 2020.\n",
      "Hello, I am Pamela Schlosser. I have been teaching at WM since 2020.\n"
     ]
    }
   ],
   "source": [
    "#f strings allow you to embed expressions inside string literals, using curly braces {}\n",
    "name = \"Pamela Schlosser\"\n",
    "print(\"Hello, I am \" + name + \". I have been teaching at WM since 2020.\")\n",
    "print(f\"Hello, I am {name}. I have been teaching at WM since 2020.\")"
   ]
  },
  {
   "cell_type": "code",
   "execution_count": 31,
   "id": "7ff36a02",
   "metadata": {},
   "outputs": [
    {
     "name": "stdout",
     "output_type": "stream",
     "text": [
      "Schlosser\n",
      "23\n",
      "name : Schlosser\n",
      "age : 23\n",
      "city : Williamsburg\n"
     ]
    }
   ],
   "source": [
    "d1 = {\"name\":\"Schlosser\", \"age\":23, \"city\": \"Williamsburg\"} # This is a dictionary where \"name\", \"age\", and \"city\" are the keys\n",
    "print(d1[\"name\"])\n",
    "print(d1.get(\"age\"))\n",
    "for key, value in d1.items():\n",
    "    print(key,\":\",value)"
   ]
  },
  {
   "cell_type": "code",
   "execution_count": 32,
   "id": "2f9c2609",
   "metadata": {},
   "outputs": [
    {
     "name": "stdout",
     "output_type": "stream",
     "text": [
      "{'person1': {'name': 'Schlosser', 'age': 23, 'city': 'Williamsburg'}, 'person2': {'name': 'Smith', 'age': 30, 'city': 'Newport News'}}\n"
     ]
    }
   ],
   "source": [
    "people = {\n",
    "    \"person1\": {\"name\": \"Schlosser\", \"age\": 23, \"city\": \"Williamsburg\"},\n",
    "    \"person2\": {\"name\": \"Smith\", \"age\": 30, \"city\": \"Newport News\"}\n",
    "    }\n",
    "print(people)"
   ]
  },
  {
   "cell_type": "code",
   "execution_count": 35,
   "id": "f17e67d1",
   "metadata": {},
   "outputs": [
    {
     "name": "stdout",
     "output_type": "stream",
     "text": [
      "{'A': {'B': 10, 'C': 15}, 'B': {'A': 10, 'C': 20}, 'C': {'A': 15, 'B': 20}}\n",
      "10\n"
     ]
    }
   ],
   "source": [
    "distances = {\n",
    "\"A\": {\"B\": 10, \"C\": 15},\n",
    "\"B\": {\"A\": 10, \"C\": 20},\n",
    "\"C\": {\"A\": 15, \"B\": 20}\n",
    "}\n",
    "print(distances)\n",
    "print(distances[\"A\"][\"B\"])  # Output: 10"
   ]
  },
  {
   "cell_type": "code",
   "execution_count": 36,
   "id": "642d9f05",
   "metadata": {},
   "outputs": [
    {
     "name": "stdout",
     "output_type": "stream",
     "text": [
      "{'Bryce': {'B': 0.2, 'C': 0.4}, 'Mann': {'A': 0.2, 'C': 0.2}, 'Tai': {'A': 0.4, 'B': 0.2}, 'Connor': {'A': 0.3, 'B': 0.3, 'C': 0.1}}\n"
     ]
    }
   ],
   "source": [
    "Students = {\n",
    "\"Bryce\": {\"B\":.2, \"C\": .4},\n",
    "\"Mann\": {\"A\": .2, \"C\": .2},\n",
    "\"Tai\": {\"A\": .4, \"B\": .2},\n",
    "\"Connor\" : {\"A\": .3, \"B\": .3, \"C\": .1}\n",
    "\n",
    "}\n",
    "print(Students)"
   ]
  },
  {
   "cell_type": "code",
   "execution_count": 27,
   "id": "3fdd1185",
   "metadata": {},
   "outputs": [
    {
     "name": "stdout",
     "output_type": "stream",
     "text": [
      "(1, 2, 3, 4, 5)\n"
     ]
    }
   ],
   "source": [
    "t1 = (1, 2, 3, 4, 5) # This is a tuple\n",
    "print(t1) # This will print the tuple t1"
   ]
  },
  {
   "cell_type": "code",
   "execution_count": 37,
   "id": "fe363409",
   "metadata": {},
   "outputs": [
    {
     "name": "stdout",
     "output_type": "stream",
     "text": [
      "x is greater than 5\n"
     ]
    }
   ],
   "source": [
    "x = 10\n",
    "if x > 5:print(\"x is greater than 5\")"
   ]
  },
  {
   "cell_type": "code",
   "execution_count": 38,
   "id": "90a202a7",
   "metadata": {},
   "outputs": [
    {
     "name": "stdout",
     "output_type": "stream",
     "text": [
      "Zero\n"
     ]
    }
   ],
   "source": [
    "x = 0\n",
    "if x > 0:\n",
    "    print(\"Positive\")\n",
    "elif x == 0:\n",
    "    print(\"Zero\")\n",
    "else:\n",
    "    print(\"Negative\")"
   ]
  },
  {
   "cell_type": "code",
   "execution_count": 41,
   "id": "ac639119",
   "metadata": {},
   "outputs": [
    {
     "name": "stdout",
     "output_type": "stream",
     "text": [
      "0 is even\n",
      "1 is odd\n",
      "2 is even\n",
      "3 is odd\n",
      "4 is even\n"
     ]
    }
   ],
   "source": [
    "x = 0\n",
    "while x < 5:\n",
    "    if x % 2 == 0:\n",
    "        print(x, \"is even\")\n",
    "    else:\n",
    "        print(x, \"is odd\")\n",
    "    x += 1"
   ]
  },
  {
   "cell_type": "code",
   "execution_count": 42,
   "id": "f04be2f9",
   "metadata": {},
   "outputs": [
    {
     "name": "stdout",
     "output_type": "stream",
     "text": [
      "8\n"
     ]
    }
   ],
   "source": [
    "def sum_up(a,b):\n",
    "    return a + b\n",
    "result = sum_up(3, 5)\n",
    "print(result)"
   ]
  },
  {
   "cell_type": "code",
   "execution_count": 48,
   "id": "72271b64",
   "metadata": {},
   "outputs": [],
   "source": [
    "\n",
    "import numpy as np\n",
    "\n",
    "import pandas as pd"
   ]
  }
 ],
 "metadata": {
  "kernelspec": {
   "display_name": "CTBA",
   "language": "python",
   "name": "python3"
  },
  "language_info": {
   "codemirror_mode": {
    "name": "ipython",
    "version": 3
   },
   "file_extension": ".py",
   "mimetype": "text/x-python",
   "name": "python",
   "nbconvert_exporter": "python",
   "pygments_lexer": "ipython3",
   "version": "3.13.5"
  }
 },
 "nbformat": 4,
 "nbformat_minor": 5
}
